{
 "cells": [
  {
   "cell_type": "code",
   "execution_count": 1,
   "metadata": {},
   "outputs": [],
   "source": [
    "import pandas as pd\n",
    "import numpy as np\n",
    "\n",
    "df = pd.read_excel('docs/Выгрузка номенклатуры ДОИиЭ_v2.xlsx', index_col=0)\n",
    "\n",
    "df = df.loc[df['Пометка удаления/ Признак архивной записи'] == 'Нет']\n",
    "df = df.drop(df.columns[[0,1,2,4,5,6,7,8,10,11,12,13,14,15,16,17]], axis=1)"
   ]
  },
  {
   "cell_type": "code",
   "execution_count": 2,
   "metadata": {},
   "outputs": [
    {
     "output_type": "execute_result",
     "data": {
      "text/plain": [
       "                                                                   Полное наименование  \\\n",
       "Системный уникальный\\nидентификатор                                                      \n",
       "0                                                                 Зажимы 32 мм цветные   \n",
       "1                                                                            AL полоса   \n",
       "2                                                          Cветильник подвесной L-2400   \n",
       "3                                    DURAVIT DuraStyle сиденье для унитаза SoftClos...   \n",
       "4                                    DURAVIT DuraStyle унитаз приставной 370*570мм,...   \n",
       "...                                                                                ...   \n",
       "2744                                                                  Эффералган табл.   \n",
       "2745                                                                Яблоки Гранни Смит   \n",
       "2746                                                                    Яблоки Ред Дел   \n",
       "2747                                                       Ящик для инструментов пласт   \n",
       "2748                                                             Ящик полипропиленовый   \n",
       "\n",
       "                                                Класс (Наименование)  \n",
       "Системный уникальный\\nидентификатор                                   \n",
       "0                                                         Канцелярия  \n",
       "1                                    Монтажные и расходные материалы  \n",
       "2                                                       Хозинвентарь  \n",
       "3                                    Монтажные и расходные материалы  \n",
       "4                                    Монтажные и расходные материалы  \n",
       "...                                                              ...  \n",
       "2744                                           Спецобеспечение ДОИиЭ  \n",
       "2745                                                          Прочее  \n",
       "2746                                                          Прочее  \n",
       "2747                                                    Хозинвентарь  \n",
       "2748                                                    Хозинвентарь  \n",
       "\n",
       "[2749 rows x 2 columns]"
      ],
      "text/html": "<div>\n<style scoped>\n    .dataframe tbody tr th:only-of-type {\n        vertical-align: middle;\n    }\n\n    .dataframe tbody tr th {\n        vertical-align: top;\n    }\n\n    .dataframe thead th {\n        text-align: right;\n    }\n</style>\n<table border=\"1\" class=\"dataframe\">\n  <thead>\n    <tr style=\"text-align: right;\">\n      <th></th>\n      <th>Полное наименование</th>\n      <th>Класс (Наименование)</th>\n    </tr>\n    <tr>\n      <th>Системный уникальный\nидентификатор</th>\n      <th></th>\n      <th></th>\n    </tr>\n  </thead>\n  <tbody>\n    <tr>\n      <th>0</th>\n      <td>Зажимы 32 мм цветные</td>\n      <td>Канцелярия</td>\n    </tr>\n    <tr>\n      <th>1</th>\n      <td>AL полоса</td>\n      <td>Монтажные и расходные материалы</td>\n    </tr>\n    <tr>\n      <th>2</th>\n      <td>Cветильник подвесной L-2400</td>\n      <td>Хозинвентарь</td>\n    </tr>\n    <tr>\n      <th>3</th>\n      <td>DURAVIT DuraStyle сиденье для унитаза SoftClos...</td>\n      <td>Монтажные и расходные материалы</td>\n    </tr>\n    <tr>\n      <th>4</th>\n      <td>DURAVIT DuraStyle унитаз приставной 370*570мм,...</td>\n      <td>Монтажные и расходные материалы</td>\n    </tr>\n    <tr>\n      <th>...</th>\n      <td>...</td>\n      <td>...</td>\n    </tr>\n    <tr>\n      <th>2744</th>\n      <td>Эффералган табл.</td>\n      <td>Спецобеспечение ДОИиЭ</td>\n    </tr>\n    <tr>\n      <th>2745</th>\n      <td>Яблоки Гранни Смит</td>\n      <td>Прочее</td>\n    </tr>\n    <tr>\n      <th>2746</th>\n      <td>Яблоки Ред Дел</td>\n      <td>Прочее</td>\n    </tr>\n    <tr>\n      <th>2747</th>\n      <td>Ящик для инструментов пласт</td>\n      <td>Хозинвентарь</td>\n    </tr>\n    <tr>\n      <th>2748</th>\n      <td>Ящик полипропиленовый</td>\n      <td>Хозинвентарь</td>\n    </tr>\n  </tbody>\n</table>\n<p>2749 rows × 2 columns</p>\n</div>"
     },
     "metadata": {},
     "execution_count": 2
    }
   ],
   "source": [
    "df = df.rename({x:y for x,y in zip(list(df.index.values),range(0,len(list(df.index.values))))})\n",
    "df"
   ]
  },
  {
   "cell_type": "code",
   "execution_count": 3,
   "metadata": {
    "scrolled": true
   },
   "outputs": [
    {
     "output_type": "stream",
     "name": "stdout",
     "text": [
      "<class 'pandas.core.frame.DataFrame'>\nInt64Index: 2749 entries, 0 to 2748\nData columns (total 2 columns):\n #   Column                Non-Null Count  Dtype \n---  ------                --------------  ----- \n 0   Полное наименование   2749 non-null   object\n 1   Класс (Наименование)  2749 non-null   object\ndtypes: object(2)\nmemory usage: 64.4+ KB\n"
     ]
    }
   ],
   "source": [
    " df.info()"
   ]
  },
  {
   "cell_type": "code",
   "execution_count": 4,
   "metadata": {
    "scrolled": true
   },
   "outputs": [
    {
     "output_type": "execute_result",
     "data": {
      "text/plain": [
       "Канцелярия                         774\n",
       "Мебель                             601\n",
       "Хозинвентарь                       364\n",
       "Офисное оборудование, техника      246\n",
       "Прочее                             232\n",
       "Клининг                            152\n",
       "Монтажные и расходные материалы    144\n",
       "Бакалея                             60\n",
       "Охрана труда, ТБ                    47\n",
       "Цветы                               43\n",
       "Материалы для IT-оборудования       38\n",
       "Спецобеспечение ДОИиЭ               35\n",
       "Спецодежда, спецоснастка            13\n",
       "Name: Класс (Наименование), dtype: int64"
      ]
     },
     "metadata": {},
     "execution_count": 4
    }
   ],
   "source": [
    "df.iloc[:,1].value_counts()"
   ]
  },
  {
   "cell_type": "code",
   "execution_count": 5,
   "metadata": {},
   "outputs": [
    {
     "output_type": "execute_result",
     "data": {
      "text/plain": [
       "                                                                                       Полное наименование  \\\n",
       "Системный уникальный\\nидентификатор                                                                          \n",
       "2687                                 Шредер  РО Alligator 808+СС+ 5ур.секр.,1х13мм, 8лист, 36л, 80г,220 мм   \n",
       "2688                                 Шредер HSM 125.2, Зур. секр., 3,9х30 мм., 15лст, 76лтр.                 \n",
       "2689                                 Шредер HSM SECURIO B34                                                  \n",
       "2690                                 Шредер HSM SECURIO B35                                                  \n",
       "\n",
       "                                              Класс (Наименование)  \n",
       "Системный уникальный\\nидентификатор                                 \n",
       "2687                                 Офисное оборудование, техника  \n",
       "2688                                 Офисное оборудование, техника  \n",
       "2689                                 Офисное оборудование, техника  \n",
       "2690                                 Офисное оборудование, техника  "
      ],
      "text/html": "<div>\n<style scoped>\n    .dataframe tbody tr th:only-of-type {\n        vertical-align: middle;\n    }\n\n    .dataframe tbody tr th {\n        vertical-align: top;\n    }\n\n    .dataframe thead th {\n        text-align: right;\n    }\n</style>\n<table border=\"1\" class=\"dataframe\">\n  <thead>\n    <tr style=\"text-align: right;\">\n      <th></th>\n      <th>Полное наименование</th>\n      <th>Класс (Наименование)</th>\n    </tr>\n    <tr>\n      <th>Системный уникальный\nидентификатор</th>\n      <th></th>\n      <th></th>\n    </tr>\n  </thead>\n  <tbody>\n    <tr>\n      <th>2687</th>\n      <td>Шредер  РО Alligator 808+СС+ 5ур.секр.,1х13мм, 8лист, 36л, 80г,220 мм</td>\n      <td>Офисное оборудование, техника</td>\n    </tr>\n    <tr>\n      <th>2688</th>\n      <td>Шредер HSM 125.2, Зур. секр., 3,9х30 мм., 15лст, 76лтр.</td>\n      <td>Офисное оборудование, техника</td>\n    </tr>\n    <tr>\n      <th>2689</th>\n      <td>Шредер HSM SECURIO B34</td>\n      <td>Офисное оборудование, техника</td>\n    </tr>\n    <tr>\n      <th>2690</th>\n      <td>Шредер HSM SECURIO B35</td>\n      <td>Офисное оборудование, техника</td>\n    </tr>\n  </tbody>\n</table>\n</div>"
     },
     "metadata": {},
     "execution_count": 5
    }
   ],
   "source": [
    "pd.set_option(\"max_colwidth\", 0)\n",
    "df[df['Полное наименование'].str.contains(\"Шредер\")]"
   ]
  },
  {
   "cell_type": "code",
   "execution_count": 8,
   "metadata": {},
   "outputs": [
    {
     "output_type": "stream",
     "name": "stdout",
     "text": [
      "['Ботинки PANDA топ треккинг 8538 S3 цв. корич. сталь 200Дж ПУ/ТПУ (от -30* до +1*(46; 10013190/040917/0002667/2', 'Облучатель-рециркуляторы воздуха ультрафиолетовые бактерицидные ОРУБ-3-5-\"КРОНТ\" по ТУ 9451-029-11769436-2006 в исполнении передвижной ОРУБп-3-5\"-КРОНТ\" (ДЕЗАР-7)', 'Подвесной светильник TWINDOT K57W, 6500lm, 830, white, on/off Pendant luminaires, Plastic (PMMA) clear', 'Стеллаж металлический: высота 2000мм, ширина 1000м, глубина 500мм, разборные стойки, 4 полки, с максимальной нагрузкой на полку 100 кг', 'Стойка - рецепшен (1100*500*500, основной корпус - стекло, дополнительный корпус с выдвижным ящиком - МДФ, массив, шпон ореха, тонировка, лак, ткань демпфирующая)', 'Стол руководителя DIPLOMAT 223x200x73 см на опоре -панели и проставке, столешница и опорная тумба  с нишами и 3-мя ящиками. Отделка орех. с панелью', 'Тумба мобильная сервисная (3 секции, стандартные колёсные опоры, ручки-хром) 120x53x57см, EMU1253BWNWN']\n"
     ]
    }
   ],
   "source": [
    "names = df['Полное наименование'].tolist()\n",
    "print([word for word in names if len(word) > 100])"
   ]
  },
  {
   "cell_type": "code",
   "execution_count": 26,
   "metadata": {},
   "outputs": [
    {
     "output_type": "stream",
     "name": "stdout",
     "text": [
      "Блок-кубик\nБумага\nВизитница\nДатер\nДырокол\nЗажим\nЗакладки\nКалькулятор\nКарандаш\nКлей\nКлейкая лента\nКонверт\nКороб\nЛинейка\nБлок-кубик\nМаркер\nНожницы\nБлок-кубик\nПапка\nПленка\nПортфель\nПружина\nРазделитель\nРамка\nРучка\nСкобы\nСкрепки\nСкрепкошина\nСтержень\nСтикеры\nТетрадь\nШтамп\nЭтикетка\n"
     ]
    }
   ],
   "source": [
    "import pandas as pd\n",
    "import numpy as np\n",
    "\n",
    "xls = pd.ExcelFile('patterns/Шаблоны Канцелярия.xlsx')\n",
    "df_dict = pd.read_excel(xls, None)\n",
    "\n",
    "patterns_dict = dict()\n",
    "for k, _ in df.items():\n",
    "    df[k].head(1)\n",
    "\n",
    "    _cls = df[k].iloc[1,1]\n",
    "    props = df[k].iloc[6:27,:6]\n",
    "    pattern = df[k].iloc[28,0]\n",
    "\n",
    "    patterns_dict[_cls] = {\n",
    "        props: '',\n",
    "        pattern: ''\n",
    "    }\n",
    "\n",
    "    return patterns_dict"
   ]
  },
  {
   "cell_type": "code",
   "execution_count": 6,
   "metadata": {},
   "outputs": [
    {
     "output_type": "stream",
     "name": "stdout",
     "text": [
      "tensor([[0., 0., 0.,  ..., 0., 0., 0.]])\n",
      "torch.Size([5, 1, 2930])\n",
      "* Owlready2 * Warning: optimized Cython parser module 'owlready2_optimized' is not available, defaulting to slower Python implementation\n",
      "* Owlready2 * Warning: ignoring cyclic type of, involving storid 330\n",
      "\n",
      "* Owlready2 * Warning: ignoring cyclic type of, involving storid 350\n",
      "\n"
     ]
    }
   ],
   "source": [
    "import torch\n",
    "\n",
    "import unicodedata\n",
    "import string\n",
    "\n",
    "from ontology import Ontology\n",
    "import unicodedata as ud\n",
    "\n",
    "all_letters = ''.join(chr(i) for i in range(65536))\n",
    "unicode_letters = ''.join(c for c in all_letters\n",
    "                          if ud.category(c)=='Lu' or ud.category(c)=='Ll' or ud.category(c)=='Nd')\n",
    "\n",
    "n_letters = len(unicode_letters)\n",
    "n_categories = 174\n",
    "\n",
    "onto = Ontology('ontology.owl')\n",
    "all_categories = onto.get_all_class_names()\n",
    "\n",
    "from parse_excel import ExcelParser\n",
    "\n",
    "parser = ExcelParser('/docs')\n",
    "train_df = parser.read_train_set('Обучающая выборка.xlsx')\n",
    "parser.read_patterns('patterns')\n",
    "\n",
    "# Find letter index from all_letters, e.g. \"a\" = 0\n",
    "def letter_to_index(letter):\n",
    "    return all_letters.find(letter)\n",
    "\n",
    "# Just for demonstration, turn a letter into a <1 x n_letters> Tensor\n",
    "def letter_to_tensor(letter):\n",
    "    tensor = torch.zeros(1, n_letters)\n",
    "    tensor[0][letter_to_index(letter)] = 1\n",
    "    return tensor\n",
    "\n",
    "# Turn a line into a <line_length x 1 x n_letters>,\n",
    "# or an array of one-hot letter vectors\n",
    "def line_to_tensor(line):\n",
    "    tensor = torch.zeros(len(line), 1, n_letters)\n",
    "    for li, letter in enumerate(line):\n",
    "        tensor[li][0][letter_to_index(letter)] = 1\n",
    "    return tensor\n",
    "\n",
    "print(letter_to_tensor('Б'))\n",
    "print(line_to_tensor('Jones').size())"
   ]
  },
  {
   "cell_type": "code",
   "execution_count": 8,
   "metadata": {},
   "outputs": [
    {
     "output_type": "stream",
     "name": "stdout",
     "text": [
      "torch.Size([1, 174])\n"
     ]
    }
   ],
   "source": [
    "import torch.nn as nn\n",
    "\n",
    "class RNN(nn.Module):\n",
    "    def __init__(self, input_size, hidden_size, output_size):\n",
    "        super(RNN, self).__init__()\n",
    "\n",
    "        self.hidden_size = hidden_size\n",
    "\n",
    "        self.i2h = nn.Linear(input_size + hidden_size, hidden_size)\n",
    "        self.i2o = nn.Linear(input_size + hidden_size, output_size)\n",
    "        self.softmax = nn.LogSoftmax(dim=1)\n",
    "\n",
    "    def forward(self, input, hidden):\n",
    "        combined = torch.cat((input, hidden), 1)\n",
    "        hidden = self.i2h(combined)\n",
    "        output = self.i2o(combined)\n",
    "        output = self.softmax(output)\n",
    "        return output, hidden\n",
    "\n",
    "    def initHidden(self):\n",
    "        return torch.zeros(1, self.hidden_size)\n",
    "\n",
    "n_hidden = 128\n",
    "rnn = RNN(n_letters, n_hidden, n_categories)\n",
    "\n",
    "input = letter_to_tensor('A')\n",
    "hidden = torch.zeros(1, n_hidden)\n",
    "\n",
    "output, next_hidden = rnn(input, hidden)\n",
    "\n",
    "input = line_to_tensor('Albert')\n",
    "hidden = torch.zeros(1, n_hidden)\n",
    "\n",
    "output, next_hidden = rnn(input[0], hidden)\n",
    "print(output.shape)"
   ]
  },
  {
   "cell_type": "code",
   "execution_count": 9,
   "metadata": {},
   "outputs": [
    {
     "output_type": "stream",
     "name": "stdout",
     "text": [
      "('Увлажнитель_воздуха', 153)\n"
     ]
    }
   ],
   "source": [
    "def categoryFromOutput(output):\n",
    "    top_n, top_i = output.topk(1)\n",
    "    category_i = top_i[0].item()\n",
    "    return all_categories[category_i], category_i\n",
    "\n",
    "print(categoryFromOutput(output))"
   ]
  },
  {
   "cell_type": "code",
   "execution_count": 4,
   "metadata": {},
   "outputs": [
    {
     "output_type": "execute_result",
     "data": {
      "text/plain": [
       "[ontology.Блок_питания_ARPV-ST24060-SLIM-PFC-B]"
      ]
     },
     "metadata": {},
     "execution_count": 4
    }
   ],
   "source": [
    "onto.get_all_instances_of('Блок_питания')"
   ]
  },
  {
   "cell_type": "code",
   "execution_count": null,
   "metadata": {},
   "outputs": [],
   "source": [
    "import random\n",
    "\n",
    "def randomChoice(l):\n",
    "    return l[random.randint(0, len(l) - 1)]\n",
    "\n",
    "def randomTrainingExample():\n",
    "    category = randomChoice(all_categories)\n",
    "    line = randomChoice(category_lines[category])\n",
    "    category_tensor = torch.tensor([all_categories.index(category)], dtype=torch.long)\n",
    "    line_tensor = lineToTensor(line)\n",
    "    return category, line, category_tensor, line_tensor\n",
    "\n",
    "for i in range(10):\n",
    "    category, line, category_tensor, line_tensor = randomTrainingExample()\n",
    "    print('category =', category, '/ line =', line)"
   ]
  },
  {
   "cell_type": "code",
   "execution_count": null,
   "metadata": {},
   "outputs": [],
   "source": []
  }
 ],
 "metadata": {
  "kernelspec": {
   "display_name": "Python 3.9.3 64-bit ('venv': venv)",
   "language": "python",
   "name": "python39364bitvenvvenv16caae39e1ed4437bfc950eee1684876"
  },
  "language_info": {
   "codemirror_mode": {
    "name": "ipython",
    "version": 3
   },
   "file_extension": ".py",
   "mimetype": "text/x-python",
   "name": "python",
   "nbconvert_exporter": "python",
   "pygments_lexer": "ipython3",
   "version": "3.9.3-final"
  }
 },
 "nbformat": 4,
 "nbformat_minor": 4
}