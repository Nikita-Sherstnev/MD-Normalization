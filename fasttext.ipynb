{
 "metadata": {
  "language_info": {
   "codemirror_mode": {
    "name": "ipython",
    "version": 3
   },
   "file_extension": ".py",
   "mimetype": "text/x-python",
   "name": "python",
   "nbconvert_exporter": "python",
   "pygments_lexer": "ipython3",
   "version": "3.9.4-final"
  },
  "orig_nbformat": 2,
  "kernelspec": {
   "name": "python39364bitvenvvenv16caae39e1ed4437bfc950eee1684876",
   "display_name": "Python 3.9.3 64-bit ('venv': venv)"
  }
 },
 "nbformat": 4,
 "nbformat_minor": 2,
 "cells": [
  {
   "cell_type": "code",
   "execution_count": 1,
   "metadata": {},
   "outputs": [
    {
     "output_type": "stream",
     "name": "stderr",
     "text": [
      "* Owlready2 * Warning: optimized Cython parser module 'owlready2_optimized' is not available, defaulting to slower Python implementation\n"
     ]
    }
   ],
   "source": [
    "from gensim.models import FastText\n",
    "\n",
    "from parse_excel import ExcelParser\n",
    "from ontology import Ontology\n",
    "\n",
    "class Corpus:\n",
    "    def __init__(self, dir, filename):\n",
    "        self.dir = dir\n",
    "        self.filename = filename\n",
    "\n",
    "    def __iter__(self, ):\n",
    "        parser = ExcelParser(self.dir)\n",
    "        train_df = parser.read_train_set(self.filename)\n",
    "        names = train_df['Полное наименование'].tolist()\n",
    "        yield list(names)\n",
    "\n",
    "def train_new(corpus, corpus_len):\n",
    "    model = FastText(vector_size=4, window=3, min_count=1)\n",
    "    model.build_vocab(corpus_iterable=corpus)\n",
    "    model.train(corpus_iterable=corpus, total_examples=corpus_len, epochs=10)\n",
    "    return model\n",
    "\n",
    "def train_update(names):\n",
    "    pass\n",
    "\n",
    "onto = Ontology('ontology.owl')\n",
    "parser = ExcelParser('docs')\n",
    "train_df = parser.read_train_set('Обучающая_выборка.xlsx')\n",
    "\n",
    "names = train_df['Полное наименование'].tolist()\n",
    "names = [s.strip() for s in names]\n",
    "\n",
    "classes = train_df['Класс (Наименование)'].tolist()\n",
    "classes = [s.strip() for s in classes]\n",
    "\n",
    "names_classes = dict(zip(names, classes)) \n",
    "\n",
    "corpus = Corpus('docs', 'Обучающая_выборка.xlsx')\n",
    "model = train_new(corpus, len(names))\n",
    "model.save('fasttext.model')\n",
    "\n",
    "onto.create_many_classes(list(set(classes)))\n",
    "onto.create_many_instances(names_classes)\n"
   ]
  },
  {
   "cell_type": "code",
   "execution_count": 5,
   "metadata": {
    "tags": []
   },
   "outputs": [
    {
     "output_type": "stream",
     "name": "stdout",
     "text": [
      "[(ontology.Диван, 2), (ontology.Вода, 1)]\n[(ontology.Диван, 66.66666666666666), (ontology.Вода, 33.33333333333333)]\n"
     ]
    }
   ],
   "source": [
    "\n",
    "# Define class of new instance\n",
    "wv = model.wv\n",
    "topn = 3\n",
    "most_sim = wv.most_similar(\"Диван 2-местный\", topn=topn)\n",
    "\n",
    "sim_classes = list()\n",
    "for sim in most_sim:\n",
    "    sim_classes.append(onto.get_class_of_instance(sim[0]))\n",
    "\n",
    "set_sim_classes = set(sim_classes)\n",
    "\n",
    "classes_count = list()\n",
    "for cl in set_sim_classes:\n",
    "    classes_count.append((cl, sim_classes.count(cl)))\n",
    "\n",
    "classes_count = sorted(classes_count, key=lambda x: x[1], reverse=True)\n",
    "print(classes_count)\n",
    "perc_count = []\n",
    "for cl in classes_count:\n",
    "    perc_count.append((cl[0], (cl[1]/topn)*100))\n",
    "\n",
    "print(perc_count)"
   ]
  },
  {
   "cell_type": "code",
   "execution_count": 3,
   "metadata": {},
   "outputs": [],
   "source": [
    "\n",
    "train_df = parser.read_train_set('Обучающая_выборка2.xlsx')\n",
    "\n",
    "names = train_df['Полное наименование'].tolist()\n",
    "names = [s.strip() for s in names]\n",
    "\n",
    "classes = train_df['Класс (Наименование)'].tolist()\n",
    "classes = [s.strip() for s in classes]\n",
    "\n",
    "names_classes = dict(zip(names, classes)) \n",
    "\n",
    "corpus = Corpus('docs', 'Обучающая_выборка2.xlsx')\n",
    "\n",
    "model.build_vocab(corpus_iterable=corpus, update=True)\n",
    "model.train(corpus_iterable=corpus, total_examples=len(names), epochs=model.epochs)\n",
    "\n",
    "model.save('fasttext.model')\n",
    "\n",
    "onto.create_many_classes(list(set(classes)))\n",
    "onto.create_many_instances(names_classes)"
   ]
  },
  {
   "cell_type": "code",
   "execution_count": 1,
   "metadata": {},
   "outputs": [
    {
     "output_type": "stream",
     "name": "stdout",
     "text": [
      "[ontology.Вода]\n",
      "[ontology.Вода_Vittel_0,33_негаз, ontology.Вода VOSS 0,3 стекло негаз]\n",
      "* Owlready2 * Warning: optimized Cython parser module 'owlready2_optimized' is not available, defaulting to slower Python implementation\n",
      "* Owlready2 * Warning: ignoring cyclic type of, involving storid 330\n",
      "\n",
      "* Owlready2 * Warning: ignoring cyclic type of, involving storid 350\n",
      "\n"
     ]
    }
   ],
   "source": [
    "from ontology import Ontology\n",
    "    \n",
    "onto = Ontology('ontology.owl')\n",
    "classes = onto.get_all_class_names()\n",
    "cl = onto.get_class_by_name('Вода')\n",
    "lst = onto.get_all_instances_of(cl)\n",
    "print(lst[0].is_a)\n",
    "\n",
    "onto.create_instance(cl, 'Вода VOSS 0,3 стекло негаз')\n",
    "inst = onto.get_all_instances_of(cl)\n",
    "print(inst)\n",
    "if 'TestClass' in classes:\n",
    "    print('yes')"
   ]
  },
  {
   "cell_type": "code",
   "execution_count": 2,
   "metadata": {},
   "outputs": [
    {
     "output_type": "stream",
     "name": "stdout",
     "text": [
      "Брошюровщик_Fellowes_Galaxy,_до_300мм,_до25л./до500л.,пл.пруж\nnew_onto.Вода\n"
     ]
    }
   ],
   "source": [
    "from ontology import Ontology\n",
    "\n",
    "onto = Ontology('new_onto.owl')\n",
    "sim = 'Вода_Vittel_0,33_негаз'\n",
    "# type(onto.Вода_Vittel_0,33_негаз)\n",
    "cl = onto.get_all_instances_of('Брошюровщик')\n",
    "\n",
    "print(cl[0].name)\n",
    "cl = onto.get_class_of_instance('Вода_Vittel_0,33_негаз')\n",
    "print(cl)\n"
   ]
  },
  {
   "cell_type": "code",
   "execution_count": null,
   "metadata": {},
   "outputs": [],
   "source": []
  }
 ]
}